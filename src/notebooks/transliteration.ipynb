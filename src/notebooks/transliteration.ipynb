{
 "cells": [
  {
   "cell_type": "markdown",
   "metadata": {},
   "source": [
    "# Transliteration\n",
    "\n",
    "This notebook is used to illustrate the different tranliteration tools that were explored for this project. Although we ended up choosing CamelTools, we reviewed two other libraries which also offer arabic transliteration capabilities, but ended up choosing Camel Tools for its reversibility"
   ]
  },
  {
   "cell_type": "code",
   "execution_count": 8,
   "metadata": {},
   "outputs": [],
   "source": [
    "sentences = ['وحُلم المزارع هذا هوَ كلّ ما لدى بعض الناس',\n",
    " 'ذلك الشيطان الماكر بلغارد شجع بورثوس وهذا ما حدث.',\n",
    " 'هذهِ اخر محطة لي قبل ان اتقاعد',\n",
    " 'اثداء كبيره لن تخسرها ابدا',\n",
    " 'حسنا، الجميع يكون منتبه لهذه الخطوات.',\n",
    " 'شخصـاً يضحك عندمـا يـرى الدم الذي يجعـل الأشخـاص الضعفـاء يتقيـأون',\n",
    " 'أخبرته بشأن والدك صحيح؟',\n",
    " 'آه, ماذا تريدين للعشاء؟',\n",
    " 'أعلم, لكن ما الذي فعلتيه في الحقيقة؟',\n",
    " '. إن تسكعتِ معي فقط سوف يقبلونكِ في أسرع وقت',\n",
    " \"ذهبت إلى المكتبة.\"\n",
    "]"
   ]
  },
  {
   "cell_type": "markdown",
   "metadata": {},
   "source": [
    "## Camel Tools"
   ]
  },
  {
   "cell_type": "code",
   "execution_count": 7,
   "metadata": {},
   "outputs": [
    {
     "name": "stdout",
     "output_type": "stream",
     "text": [
      "sentence 0\n",
      "وحُلم المزارع هذا هوَ كلّ ما لدى بعض الناس\n",
      "wHulm AlmzArς hðA hwa kl~ mA ldý bςD AlnAs\n",
      "وحُلم المزارع هذا هوَ كلّ ما لدى بعض الناس\n",
      "sentence 1\n",
      "ذلك الشيطان الماكر بلغارد شجع بورثوس وهذا ما حدث.\n",
      "ðlk AlšyTAn AlmAkr blγArd šjς bwrθws whðA mA Hdθ.\n",
      "ذلك الشيطان الماكر بلغارد شجع بورثوس وهذا ما حدثْ\n",
      "sentence 2\n",
      "هذهِ اخر محطة لي قبل ان اتقاعد\n",
      "hðhi Axr mHTħ ly qbl An AtqAςd\n",
      "هذهِ اخر محطة لي قبل ان اتقاعد\n",
      "sentence 3\n",
      "اثداء كبيره لن تخسرها ابدا\n",
      "AθdA' kbyrh ln txsrhA AbdA\n",
      "اثداء كبيره لن تخسرها ابدا\n",
      "sentence 4\n",
      "حسنا، الجميع يكون منتبه لهذه الخطوات.\n",
      "HsnA، Aljmyς ykwn mntbh lhðh AlxTwAt.\n",
      "حسنا، الجميع يكون منتبه لهذه الخطواتْ\n",
      "sentence 5\n",
      "شخصـاً يضحك عندمـا يـرى الدم الذي يجعـل الأشخـاص الضعفـاء يتقيـأون\n",
      "šxS_Aã yDHk ςndm_A y_rý Aldm Alðy yjς_l AlÂšx_AS AlDςf_A' ytqy_Âwn\n",
      "شخصـاً يضحك عندمـا يـرى الدم الذي يجعـل الأشخـاص الضعفـاء يتقيـأون\n",
      "sentence 6\n",
      "أخبرته بشأن والدك صحيح؟\n",
      "Âxbrth bšÂn wAldk SHyH؟\n",
      "أخبرته بشأن والدك صحيح؟\n",
      "sentence 7\n",
      "آه, ماذا تريدين للعشاء؟\n",
      "Āh, mAðA trydyn llςšA'؟\n",
      "آه, ماذا تريدين للعشاء؟\n",
      "sentence 8\n",
      "أعلم, لكن ما الذي فعلتيه في الحقيقة؟\n",
      "Âςlm, lkn mA Alðy fςltyh fy AlHqyqħ؟\n",
      "أعلم, لكن ما الذي فعلتيه في الحقيقة؟\n",
      "sentence 9\n",
      ". إن تسكعتِ معي فقط سوف يقبلونكِ في أسرع وقت\n",
      ". Ăn tskςti mςy fqT swf yqblwnki fy Âsrς wqt\n",
      "ْ إن تسكعتِ معي فقط سوف يقبلونكِ في أسرع وقت\n",
      "sentence 10\n",
      "ذهبت إلى المكتبة.\n",
      "ðhbt Ălý Almktbħ.\n",
      "ذهبت إلى المكتبةْ\n"
     ]
    }
   ],
   "source": [
    "from camel_tools.utils.charmap import CharMapper\n",
    "\n",
    "\n",
    "ar2bw = CharMapper.builtin_mapper('ar2hsb')\n",
    "bw2ar = CharMapper.builtin_mapper('hsb2ar')\n",
    "\n",
    "for i,sentence in enumerate(sentences):\n",
    "    print(f\"sentence {i}\")\n",
    "    print(sentence)\n",
    "    sent_bw = ar2bw(sentence)\n",
    "    print(sent_bw)\n",
    "    sent_ar = bw2ar(sent_bw)\n",
    "    print(sent_ar)\n"
   ]
  },
  {
   "cell_type": "markdown",
   "metadata": {},
   "source": [
    "\n",
    "The mapping, as show in this example, is fully reversible. Going from arabic to HSB and the to arabic fully preserves the sentence, which is one of the main requirements we have in our choice."
   ]
  },
  {
   "cell_type": "markdown",
   "metadata": {},
   "source": [
    "## Arabic Transliterator"
   ]
  },
  {
   "cell_type": "code",
   "execution_count": 4,
   "metadata": {},
   "outputs": [
    {
     "name": "stdout",
     "output_type": "stream",
     "text": [
      "\n",
      "=== Testing Latin to Arabic Transliteration ===\n",
      "\n",
      "Input: mar7aba\n",
      "  1. مَرحَبة\n",
      "  2. مَرحَبا\n",
      "  3. مارحَبى\n",
      "latin->Phonetic → Arabic: مارحَبى\n",
      "Results match: No\n",
      "\n",
      "Input: salaam\n",
      "  1. سَلام\n",
      "  2. صَلام\n",
      "latin->Phonetic → Arabic: صَلام\n",
      "Results match: No\n",
      "\n",
      "Input: shukran\n",
      "  1. شوكراً\n",
      "  2. سهوكراً\n",
      "latin->Phonetic → Arabic: سهوكراً\n",
      "Results match: No\n",
      "\n",
      "Input: kaifa 7alak\n",
      "  1. كَِفَ حَلَك\n",
      "  2. قَِفَ حَلَك\n",
      "latin->Phonetic → Arabic: قَِفَ حَلَك\n",
      "Results match: No\n",
      "\n",
      "Input: sabah al5air\n",
      "  1. سَبَه َلخَِر\n",
      "  2. صَبَه َلخَِر\n",
      "latin->Phonetic → Arabic: صَبَه َلخَِر\n",
      "Results match: No\n",
      "\n",
      "Input: madrasa\n",
      "  1. مَدرَسة\n",
      "  2. مَدرَسا\n",
      "  3. مادرَسى\n",
      "latin->Phonetic → Arabic: مادرَسى\n",
      "Results match: No\n",
      "\n",
      "Input: kitaab\n",
      "  1. كِتاب\n",
      "  2. قِتاب\n",
      "latin->Phonetic → Arabic: قِتاب\n",
      "Results match: No\n",
      "\n",
      "Input: bab\n",
      "  1. بَب\n",
      "  2. باب\n",
      "latin->Phonetic → Arabic: باب\n",
      "Results match: No\n",
      "\n",
      "Input: bayt\n",
      "  1. بَيت\n",
      "  2. بايت\n",
      "latin->Phonetic → Arabic: بايت\n",
      "Results match: No\n",
      "\n",
      "Input: sadiiq\n",
      "  1. سَديق\n",
      "  2. صَديق\n",
      "latin->Phonetic → Arabic: صَديق\n",
      "Results match: No\n"
     ]
    }
   ],
   "source": [
    "import sys\n",
    "import os\n",
    "\n",
    "# Add directory to PATH\n",
    "sys.path.append('../..')\n",
    "from src.utils.transliterator import ArabicTransliterator\n",
    "\n",
    "\"\"\"Test Latin to Arabic transliteration\"\"\"\n",
    "print(\"\\n=== Testing Latin to Arabic Transliteration ===\")\n",
    "\n",
    "test_words = [\n",
    "    \"mar7aba\",      # Hello\n",
    "    \"salaam\",       # Peace\n",
    "    \"shukran\",      # Thank you\n",
    "    \"kaifa 7alak\",  # How are you?\n",
    "    \"sabah al5air\", # Good morning\n",
    "    \"madrasa\",      # School\n",
    "    \"kitaab\",       # Book\n",
    "    \"bab\",          # Door\n",
    "    \"bayt\",         # House\n",
    "    \"sadiiq\"        # Friend\n",
    "]\n",
    "\n",
    "transliterator = ArabicTransliterator()\n",
    "\n",
    "for word in test_words:\n",
    "    results = transliterator.transliterate(word, limit=3)\n",
    "    print(f\"\\nInput: {word}\")\n",
    "    for i, result in enumerate(results, 1):\n",
    "        print(f\"  {i}. {result}\")\n",
    "\n",
    "\n",
    "    phonetic = transliterator.pronunciate(result, limit=1)\n",
    "    arabic_from_phonetic = transliterator.to_arb(phonetic[0], limit=1)\n",
    "    print(f\"latin->Phonetic → Arabic: {arabic_from_phonetic[0]}\")\n",
    "\n",
    "    print(f\"Results match: {'Yes' if word == arabic_from_phonetic[0] else 'No'}\")\n",
    "\n"
   ]
  },
  {
   "cell_type": "markdown",
   "metadata": {},
   "source": [
    "This library is a python adaptation of a javascript library which is used to transliterate levantine arabic. Although the library is two way, the reverse mapping, latin->arabic, is not exact, and so the library provides multiple alternatives for each word. Upon inspecting it, we noted that the reverse mapping is low quality, and in most cases results in grammatical errors and/or loss of meaning. \n",
    "\n",
    "This is reason we did not choose this transliteration system."
   ]
  },
  {
   "cell_type": "markdown",
   "metadata": {},
   "source": [
    "## Uroman"
   ]
  },
  {
   "cell_type": "code",
   "execution_count": 10,
   "metadata": {},
   "outputs": [
    {
     "name": "stdout",
     "output_type": "stream",
     "text": [
      "sentence 0\n",
      "وحُلم المزارع هذا هوَ كلّ ما لدى بعض الناس\n",
      "whulm almzar' htha hwa kl ma lda b'd alnas\n",
      "sentence 1\n",
      "ذلك الشيطان الماكر بلغارد شجع بورثوس وهذا ما حدث.\n",
      "thlk alshytan almakr blghard shj' bwrthws whtha ma hdth.\n",
      "sentence 2\n",
      "هذهِ اخر محطة لي قبل ان اتقاعد\n",
      "hthhi akhr mhta ly qbl an atqa'd\n",
      "sentence 3\n",
      "اثداء كبيره لن تخسرها ابدا\n",
      "athda' kbyrh ln tkhsrha abda\n",
      "sentence 4\n",
      "حسنا، الجميع يكون منتبه لهذه الخطوات.\n",
      "hsna, aljmy' ykwn mntbh lhthh alkhtwat.\n",
      "sentence 5\n",
      "شخصـاً يضحك عندمـا يـرى الدم الذي يجعـل الأشخـاص الضعفـاء يتقيـأون\n",
      "shkhsan ydhk 'ndma yra aldm althy yj'l alashkhas ald'fa' ytqyawn\n",
      "sentence 6\n",
      "أخبرته بشأن والدك صحيح؟\n",
      "akhbrth bshan waldk shyh?\n",
      "sentence 7\n",
      "آه, ماذا تريدين للعشاء؟\n",
      "ah, matha trydyn ll'sha'?\n",
      "sentence 8\n",
      "أعلم, لكن ما الذي فعلتيه في الحقيقة؟\n",
      "a'lm, lkn ma althy f'ltyh fy alhqyqa?\n",
      "sentence 9\n",
      ". إن تسكعتِ معي فقط سوف يقبلونكِ في أسرع وقت\n",
      ". in tsk'ti m'y fqt swf yqblwnki fy asr' wqt\n",
      "sentence 10\n",
      "ذهبت إلى المكتبة.\n",
      "thhbt ila almktba.\n"
     ]
    }
   ],
   "source": [
    "import uroman \n",
    "\n",
    "trans = uroman.Uroman()\n",
    "for i,sentence in enumerate(sentences):\n",
    "    print(f\"sentence {i}\")\n",
    "    print(sentence)\n",
    "    roman = trans.romanize_string(sentence)\n",
    "    print(roman)\n",
    "\n"
   ]
  },
  {
   "cell_type": "code",
   "execution_count": null,
   "metadata": {},
   "outputs": [
    {
     "name": "stdout",
     "output_type": "stream",
     "text": [
      "thhbt ila almktba.\n"
     ]
    }
   ],
   "source": [
    "sentences = [\n",
    "    \"ذهبت إلى المكتبة.\",\n",
    "]"
   ]
  },
  {
   "cell_type": "markdown",
   "metadata": {},
   "source": [
    "The problem here is that, although the romanization is good and legible, they do not provide a way to reverse it. While they do claim in the research paper that the mapping is reversible, we noticed from inspecting the latinized version of the text that the translation is lossy, and any reverse mapping does not have enough information to disambiguate between between different potential arabic words.\n",
    "\n",
    "Because we want to avoid lossy transliterations, we ended up choosing not use Uroman"
   ]
  }
 ],
 "metadata": {
  "kernelspec": {
   "display_name": ".venv",
   "language": "python",
   "name": "python3"
  },
  "language_info": {
   "codemirror_mode": {
    "name": "ipython",
    "version": 3
   },
   "file_extension": ".py",
   "mimetype": "text/x-python",
   "name": "python",
   "nbconvert_exporter": "python",
   "pygments_lexer": "ipython3",
   "version": "3.12.6"
  }
 },
 "nbformat": 4,
 "nbformat_minor": 2
}
