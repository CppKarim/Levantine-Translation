{
 "cells": [
  {
   "cell_type": "markdown",
   "metadata": {},
   "source": [
    "# Transliteration\n",
    "\n",
    "in our case, this will involve transliteration, and ensuring that each row has the appropriate features, i.e target and source languages, etc.."
   ]
  },
  {
   "cell_type": "code",
   "execution_count": null,
   "metadata": {},
   "outputs": [],
   "source": [
    "sentences = ['وحُلم المزارع هذا هوَ كلّ ما لدى بعض الناس',\n",
    " 'ذلك الشيطان الماكر بلغارد شجع بورثوس وهذا ما حدث.',\n",
    " 'هذهِ اخر محطة لي قبل ان اتقاعد',\n",
    " 'اثداء كبيره لن تخسرها ابدا',\n",
    " 'حسنا، الجميع يكون منتبه لهذه الخطوات.',\n",
    " 'شخصـاً يضحك عندمـا يـرى الدم الذي يجعـل الأشخـاص الضعفـاء يتقيـأون',\n",
    " 'أخبرته بشأن والدك صحيح؟',\n",
    " 'آه, ماذا تريدين للعشاء؟',\n",
    " 'أعلم, لكن ما الذي فعلتيه في الحقيقة؟',\n",
    " '. إن تسكعتِ معي فقط سوف يقبلونكِ في أسرع وقت']"
   ]
  },
  {
   "cell_type": "markdown",
   "metadata": {},
   "source": [
    "## Camel Tools"
   ]
  },
  {
   "cell_type": "code",
   "execution_count": 5,
   "metadata": {},
   "outputs": [
    {
     "name": "stdout",
     "output_type": "stream",
     "text": [
      "ذهبت إلى المكتبة.\n",
      "ðhbt Ălý Almktbħ.\n",
      "ذهبت إلى المكتبةْ\n"
     ]
    }
   ],
   "source": [
    "from camel_tools.utils.charmap import CharMapper\n",
    "\n",
    "sentence = \"ذهبت إلى المكتبة.\"\n",
    "print(sentence)\n",
    "\n",
    "ar2bw = CharMapper.builtin_mapper('ar2hsb')\n",
    "bw2ar = CharMapper.builtin_mapper('hsb2ar')\n",
    "\n",
    "sent_bw = ar2bw(sentence)\n",
    "sent_ar = bw2ar(sent_bw)\n",
    "print(sent_bw)\n",
    "print(sent_ar)\n"
   ]
  },
  {
   "cell_type": "markdown",
   "metadata": {},
   "source": [
    "\n",
    "The mapping, as show in this example, is fully reversible. Going from arabic to HSB and the to arabic fully preserves the sentence, which is one of the main requirements we have in our choice."
   ]
  },
  {
   "cell_type": "markdown",
   "metadata": {},
   "source": [
    "## Arabic Transliterator"
   ]
  },
  {
   "cell_type": "code",
   "execution_count": 4,
   "metadata": {},
   "outputs": [
    {
     "name": "stdout",
     "output_type": "stream",
     "text": [
      "\n",
      "=== Testing Latin to Arabic Transliteration ===\n",
      "\n",
      "Input: mar7aba\n",
      "  1. مَرحَبة\n",
      "  2. مَرحَبا\n",
      "  3. مارحَبى\n",
      "latin->Phonetic → Arabic: مارحَبى\n",
      "Results match: No\n",
      "\n",
      "Input: salaam\n",
      "  1. سَلام\n",
      "  2. صَلام\n",
      "latin->Phonetic → Arabic: صَلام\n",
      "Results match: No\n",
      "\n",
      "Input: shukran\n",
      "  1. شوكراً\n",
      "  2. سهوكراً\n",
      "latin->Phonetic → Arabic: سهوكراً\n",
      "Results match: No\n",
      "\n",
      "Input: kaifa 7alak\n",
      "  1. كَِفَ حَلَك\n",
      "  2. قَِفَ حَلَك\n",
      "latin->Phonetic → Arabic: قَِفَ حَلَك\n",
      "Results match: No\n",
      "\n",
      "Input: sabah al5air\n",
      "  1. سَبَه َلخَِر\n",
      "  2. صَبَه َلخَِر\n",
      "latin->Phonetic → Arabic: صَبَه َلخَِر\n",
      "Results match: No\n",
      "\n",
      "Input: madrasa\n",
      "  1. مَدرَسة\n",
      "  2. مَدرَسا\n",
      "  3. مادرَسى\n",
      "latin->Phonetic → Arabic: مادرَسى\n",
      "Results match: No\n",
      "\n",
      "Input: kitaab\n",
      "  1. كِتاب\n",
      "  2. قِتاب\n",
      "latin->Phonetic → Arabic: قِتاب\n",
      "Results match: No\n",
      "\n",
      "Input: bab\n",
      "  1. بَب\n",
      "  2. باب\n",
      "latin->Phonetic → Arabic: باب\n",
      "Results match: No\n",
      "\n",
      "Input: bayt\n",
      "  1. بَيت\n",
      "  2. بايت\n",
      "latin->Phonetic → Arabic: بايت\n",
      "Results match: No\n",
      "\n",
      "Input: sadiiq\n",
      "  1. سَديق\n",
      "  2. صَديق\n",
      "latin->Phonetic → Arabic: صَديق\n",
      "Results match: No\n"
     ]
    }
   ],
   "source": [
    "import sys\n",
    "import os\n",
    "\n",
    "# Add directory to PATH\n",
    "sys.path.append('../..')\n",
    "from src.utils.transliterator import ArabicTransliterator\n",
    "\n",
    "\"\"\"Test Latin to Arabic transliteration\"\"\"\n",
    "print(\"\\n=== Testing Latin to Arabic Transliteration ===\")\n",
    "\n",
    "test_words = [\n",
    "    \"mar7aba\",      # Hello\n",
    "    \"salaam\",       # Peace\n",
    "    \"shukran\",      # Thank you\n",
    "    \"kaifa 7alak\",  # How are you?\n",
    "    \"sabah al5air\", # Good morning\n",
    "    \"madrasa\",      # School\n",
    "    \"kitaab\",       # Book\n",
    "    \"bab\",          # Door\n",
    "    \"bayt\",         # House\n",
    "    \"sadiiq\"        # Friend\n",
    "]\n",
    "\n",
    "transliterator = ArabicTransliterator()\n",
    "\n",
    "for word in test_words:\n",
    "    results = transliterator.transliterate(word, limit=3)\n",
    "    print(f\"\\nInput: {word}\")\n",
    "    for i, result in enumerate(results, 1):\n",
    "        print(f\"  {i}. {result}\")\n",
    "\n",
    "\n",
    "    phonetic = transliterator.pronunciate(result, limit=1)\n",
    "    arabic_from_phonetic = transliterator.to_arb(phonetic[0], limit=1)\n",
    "    print(f\"latin->Phonetic → Arabic: {arabic_from_phonetic[0]}\")\n",
    "\n",
    "    print(f\"Results match: {'Yes' if word == arabic_from_phonetic[0] else 'No'}\")\n",
    "\n"
   ]
  },
  {
   "cell_type": "markdown",
   "metadata": {},
   "source": [
    "This library is a python adaptation of a javascript library which is used to transliterate levantine arabic. Although the library is two way, the reverse mapping, latin->arabic, is not exact, and so the library provides multiple alternatives for each word. Upon inspecting it, we noted that the reverse mapping is low quality, and in most cases results in grammatical errors and/or loss of meaning. \n",
    "\n",
    "This is reason we did not choose this transliteration system."
   ]
  },
  {
   "cell_type": "markdown",
   "metadata": {},
   "source": [
    "## Uroman"
   ]
  },
  {
   "cell_type": "code",
   "execution_count": 1,
   "metadata": {},
   "outputs": [],
   "source": [
    "import uroman \n",
    "\n",
    "trans = uroman.Uroman()"
   ]
  },
  {
   "cell_type": "code",
   "execution_count": null,
   "metadata": {},
   "outputs": [
    {
     "name": "stdout",
     "output_type": "stream",
     "text": [
      "thhbt ila almktba.\n"
     ]
    }
   ],
   "source": [
    "sentences = [\n",
    "    \"ذهبت إلى المكتبة.\",\n",
    "]\n",
    "roman = trans.romanize_string(sentence)\n",
    "print(roman)"
   ]
  },
  {
   "cell_type": "markdown",
   "metadata": {},
   "source": [
    "The problem here is that, although the romanization is good and legible, they do not provide a way to reverse it.\n",
    "\n",
    "Because we want to avoid lossy transliterations, we ended up choosing not use Uroman"
   ]
  }
 ],
 "metadata": {
  "kernelspec": {
   "display_name": ".venv",
   "language": "python",
   "name": "python3"
  },
  "language_info": {
   "codemirror_mode": {
    "name": "ipython",
    "version": 3
   },
   "file_extension": ".py",
   "mimetype": "text/x-python",
   "name": "python",
   "nbconvert_exporter": "python",
   "pygments_lexer": "ipython3",
   "version": "3.12.6"
  }
 },
 "nbformat": 4,
 "nbformat_minor": 2
}
